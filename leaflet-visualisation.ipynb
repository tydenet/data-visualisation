{
 "cells": [
  {
   "cell_type": "code",
   "execution_count": 1,
   "id": "9b224e36-324b-466e-8f42-0d5433221c80",
   "metadata": {},
   "outputs": [],
   "source": [
    "import ipyleaflet"
   ]
  },
  {
   "cell_type": "code",
   "execution_count": 2,
   "id": "245104bc-6ff5-4b70-8b16-288f54c51a31",
   "metadata": {},
   "outputs": [],
   "source": [
    "from ipyleaflet import Map, basemaps\n",
"center = [38.128, 2.588]\n",
"zoom = 5\n",
"Map(basemap=basemaps.Esri.WorldTopoMap, center=center, zoom=zoom)"
   ]
  }],
 "metadata": {
  "kernelspec": {
   "display_name": "Python 3 (ipykernel)",
   "language": "python",
   "name": "python3"
  },
  "language_info": {
   "codemirror_mode": {
    "name": "ipython",
    "version": 3
   },
   "file_extension": ".py",
   "mimetype": "text/x-python",
   "name": "python",
   "nbconvert_exporter": "python",
   "pygments_lexer": "ipython3",
   "version": "3.10.6"
  }
 },
 "nbformat": 4,
 "nbformat_minor": 5
}
