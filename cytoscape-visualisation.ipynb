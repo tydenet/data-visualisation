{
 "cells": [
  {
   "cell_type": "code",
   "execution_count": 1,
   "id": "9b224e36-324b-466e-8f42-0d5433221c80",
   "metadata": {},
   "outputs": [],
   "source": [
    "import ipycytoscape"
   ]
  },
  {
   "cell_type": "code",
   "execution_count": 2,
   "id": "245104bc-6ff5-4b70-8b16-288f54c51a31",
   "metadata": {},
   "outputs": [],
   "source": [
    "data = {\n",
    "    'nodes': [\n",
    "            { 'data': { 'id': '1', 'tooltip': 'a'} },\n",
    "            { 'data': { 'id': '2', 'tooltip': 'b'} },\n",
    "            { 'data': { 'id': '3', 'tooltip': 'c' } }\n",
    "    ],\n",
    "    \n",
    "    'edges': [\n",
    "            {\n",
    "                'data': {\n",
    "                    'source': '1',\n",
    "                    'target': '2',\n",
    "                    'weight': '10',\n",
    "                    'tooltip': '4'\n",
    "                }\n",
    "            },\n",
    "            {\n",
    "                'data': {\n",
    "                    'source': '1',\n",
    "                    'target': '3',\n",
    "                    'weight': '4',\n",
    "                    'tooltip': '6'\n",
    "                }\n",
    "            }\n",
    "    ]\n",
    "}\n",
    "\n"
   ]
  },
  {
   "cell_type": "code",
   "execution_count": 4,
   "id": "dcdc77d7-fa93-427b-be74-166ee7faed6f",
   "metadata": {},
   "outputs": [],
   "source": [
    "cytoscapeobj = ipycytoscape.CytoscapeWidget(nodeSpacing=10)\n",
    "cytoscapeobj.graph.add_graph_from_json(data)\n",
    "cytoscapeobj.set_tooltip_source('tooltip')\n",
    "styles=cytoscapeobj.cytoscape_style\n",
    "edge_weight_style={\n",
    "                             'selector': 'edge',\n",
    "                             'css': {\n",
    "                                 'width': 'data(weight)',\n",
    "                                 'line-color': '#9dbaea'\n",
    "                             }\n",
    "                         }\n",
    "cytoscapeobj.set_style([edge_weight_style] + [style for style in styles if style['selector'] != 'edge'])\n",
    "display(cytoscapeobj)"
   ]
  }
 ],
 "metadata": {
  "kernelspec": {
   "display_name": "Python 3 (ipykernel)",
   "language": "python",
   "name": "python3"
  },
  "language_info": {
   "codemirror_mode": {
    "name": "ipython",
    "version": 3
   },
   "file_extension": ".py",
   "mimetype": "text/x-python",
   "name": "python",
   "nbconvert_exporter": "python",
   "pygments_lexer": "ipython3",
   "version": "3.10.6"
  }
 },
 "nbformat": 4,
 "nbformat_minor": 5
}
